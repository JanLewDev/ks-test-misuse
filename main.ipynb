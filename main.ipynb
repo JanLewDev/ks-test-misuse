{
 "cells": [
  {
   "cell_type": "code",
   "execution_count": null,
   "id": "573b063a",
   "metadata": {},
   "outputs": [],
   "source": [
    "from scipy.stats import gamma, weibull_min, kstest\n",
    "import numpy as np\n",
    "import matplotlib.pyplot as plt"
   ]
  },
  {
   "cell_type": "markdown",
   "id": "d8e0df90",
   "metadata": {},
   "source": [
    "Firstly, let's demonstrate why K-S tests is not reliable when the null distribution parameters are estimated for the Gamma(0, 1) distribution. "
   ]
  },
  {
   "cell_type": "code",
   "execution_count": 9,
   "id": "453aab5e",
   "metadata": {},
   "outputs": [
    {
     "name": "stderr",
     "output_type": "stream",
     "text": [
      "/var/folders/zg/k9cf63yd0k78jkv55v64d0y80000gn/T/ipykernel_57321/1652034655.py:31: UserWarning: No artists with labels found to put in legend.  Note that artists whose label start with an underscore are ignored when legend() is called with no argument.\n",
      "  plt.legend()\n"
     ]
    },
    {
     "data": {
      "image/png": "[encoded data removed]",
      "text/plain": [
       "<Figure size 640x480 with 1 Axes>"
      ]
     },
     "metadata": {},
     "output_type": "display_data"
    }
   ],
   "source": [
    "def weibull(x, alpha, beta):\n",
    "    \"\"\"Weibull probability density function.\"\"\"\n",
    "    assert alpha > 0 and beta > 0, \"Shape and scale parameters must be positive.\"\n",
    "    if x < 0:\n",
    "        return 0.0\n",
    "    return (alpha / beta) * (x / beta) ** (alpha - 1) * np.exp(-(x / beta) ** alpha)\n",
    "\n",
    "\n",
    "SAMPLE_TRIALS = 1000\n",
    "SAMPLE_SIZE = 100\n",
    "\n",
    "misused_gamma_p_values = []\n",
    "\n",
    "for i in range(SAMPLE_TRIALS):\n",
    "    # Generate random samples from a gamma distribution\n",
    "    data_gamma = gamma.rvs(a=2, size=SAMPLE_SIZE)\n",
    "\n",
    "    # Estimate parameters for the Gamma distribution\n",
    "    shape, loc, scale = gamma.fit(data_gamma)\n",
    "\n",
    "    # Perform the K-S test against a Gamma distribution with estimated parameters\n",
    "    d, p_value = kstest(data_gamma, 'gamma', args=(shape, loc, scale), N=len(data_gamma))\n",
    "    # Store the p-value\n",
    "    misused_gamma_p_values.append(p_value)\n",
    "\n",
    "# histogram of p-values\n",
    "plt.hist(misused_gamma_p_values, bins=30, alpha=0.7, color='blue')\n",
    "plt.title('Histogram of p-values from K-S test (unspecified parameters)')\n",
    "plt.xlabel('p-value')\n",
    "plt.ylabel('Frequency')\n",
    "plt.legend()\n",
    "plt.show()"
   ]
  },
  {
   "cell_type": "markdown",
   "id": "83b870e5",
   "metadata": {},
   "source": [
    "The p-value should follow a uniform distribution (U(0, 1)) under the null hypothesis. However, when we estimate the parameters of the Gamma distribution from the data, the p-values do not follow a uniform distribution."
   ]
  },
  {
   "cell_type": "markdown",
   "id": "dc1fa8ad",
   "metadata": {},
   "source": [
    "Now let's implement the algorithms from section 2 of the paper, namely:\n",
    "\n",
    "To fix the problem, parametric bootstrap can be used to approximate the null distribution\n",
    "of the testing statistic.\n",
    "1. Draw a random sample $X_{1}^{*}, \\dots, X_{n}^{*}$ from the fitted distribution $F_{\\hatθ_n}$\n",
    "2. Fit $F_{θ}$ to the sample and obtain estimated $\\hatθ^{*}_{n}$\n",
    "3. Obtain the empirical distribution function $F^{*}_{n}$ of $X^{*}_{1}, \\dots, X^{*}_{n}$.\n",
    "4. Calculate bootstrap KS statistic\n",
    "$$D= \\sup_{x} |F^{*}_{n}(x) - F^{*}_{\\hatθ_{n}}(x)|.$$\n",
    "5. Repeat the previous steps a large number $B$ times and use the empirical distribution\n",
    "of $D^{*}$ to approximate the null distribution of the observed statistic."
   ]
  },
  {
   "cell_type": "code",
   "execution_count": null,
   "id": "d7cf938b",
   "metadata": {},
   "outputs": [],
   "source": []
  }
 ],
 "metadata": {
  "kernelspec": {
   "display_name": ".venv",
   "language": "python",
   "name": "python3"
  },
  "language_info": {
   "codemirror_mode": {
    "name": "ipython",
    "version": 3
   },
   "file_extension": ".py",
   "mimetype": "text/x-python",
   "name": "python",
   "nbconvert_exporter": "python",
   "pygments_lexer": "ipython3",
   "version": "3.13.2"
  }
 },
 "nbformat": 4,
 "nbformat_minor": 5
}
